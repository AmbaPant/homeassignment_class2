{
 "cells": [
  {
   "cell_type": "markdown",
   "metadata": {},
   "source": [
    "# Gurupurnima celebration at Central Department of Physics\n",
    "## Initiation of celebration from 2066\n",
    "### Program\n",
    "We have started celebratio of Gurupurnima at Central Department of Physics (CDP) in 2066 BS and then after it is continuing. At that time, as in photo below, we - faculties of CDP, were get togethered and put tika from senior professors.\n",
    "![img](Gurupurnima2066CDP.jpg)\n",
    "\n",
    "\n",
    "In the photo, the participants are Proffesors (first row from right) Nanda Bahadur Maharjan, Shankar Saran Karki, Devendra Raj Mishra, Lok Narayan Jha, Shesh Kanta Arya, Jeevan Jyoti Nakarmi, Shekhar Gurung, (second row) Binil Aryal, Amba Datt Pant, Mukunda Mani Aryal, Ram Prasad Regmi, Ishwar Prasad Koirala, Hari Shankar Mallik, Nilam Shrestha, Narayan Prasad Adhikari, Pramod Thakur, Sanju Shrestha, (third row) Sitaram Byahut, Udaya Raj Khanal, Raju Khanal.\n",
    "\n",
    "## CDP at present\n",
    "There are many activities - academic, research etc in CDP. You can find details about CDP in this link https://tucdp.edu.np/\n",
    "\n",
    "## Test equation\n",
    "Practice the mathematical equation\n",
    "$ (a+b)^2 $ = $a^2 + 2ab + b^2$\n",
    "\n",
    "How to write Greek letters?\n",
    "alpha $\\alpha $\n",
    "\n",
    "phi $\\phi $\n",
    "\n",
    "\n",
    "Writing fraction\n",
    "$\\frac{a}{b}$\n"
   ]
  },
  {
   "cell_type": "code",
   "execution_count": null,
   "metadata": {},
   "outputs": [],
   "source": []
  },
  {
   "cell_type": "code",
   "execution_count": null,
   "metadata": {},
   "outputs": [],
   "source": []
  }
 ],
 "metadata": {
  "kernelspec": {
   "display_name": "Python 3",
   "language": "python",
   "name": "python3"
  },
  "language_info": {
   "codemirror_mode": {
    "name": "ipython",
    "version": 3
   },
   "file_extension": ".py",
   "mimetype": "text/x-python",
   "name": "python",
   "nbconvert_exporter": "python",
   "pygments_lexer": "ipython3",
   "version": "3.7.6"
  }
 },
 "nbformat": 4,
 "nbformat_minor": 4
}
